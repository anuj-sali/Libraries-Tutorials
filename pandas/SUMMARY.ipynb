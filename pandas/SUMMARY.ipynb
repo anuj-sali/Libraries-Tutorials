{
 "cells": [
  {
   "cell_type": "code",
   "execution_count": 1,
   "metadata": {},
   "outputs": [],
   "source": [
    "import numpy as np\n",
    "import pandas as pd"
   ]
  },
  {
   "cell_type": "markdown",
   "metadata": {},
   "source": [
    "# Series? What args does it support?"
   ]
  },
  {
   "cell_type": "code",
   "execution_count": 2,
   "metadata": {},
   "outputs": [],
   "source": [
    "#s1=pd.Series(tuple/list/ndarray/dict with key as indexes,index=[],dtype='')\n",
    "#every series object has name,index'name,dtype,values associated with it.\n",
    "#series = 1d array with elements of same datatype or ordered dictionary"
   ]
  },
  {
   "cell_type": "code",
   "execution_count": 3,
   "metadata": {},
   "outputs": [],
   "source": [
    "#s1.isnull(),s1.notnull(),np.exp(s1):        universal functions can be applied to series, fancy indexing also supported."
   ]
  },
  {
   "cell_type": "markdown",
   "metadata": {},
   "source": [
    "# DataFrames?? What args does its constructor suport??"
   ]
  },
  {
   "cell_type": "code",
   "execution_count": 4,
   "metadata": {},
   "outputs": [],
   "source": [
    "#pd.DataFrame((list of list/tuples)/2d ndarray/(dict of dict/list),index=[],columns=[])\n",
    "#pd.reindex([],columns=[],fill_value=)\n",
    "#pd.drop() it takes rows by default. it can take columns with axis=1 provided. inplace arg too present"
   ]
  },
  {
   "cell_type": "code",
   "execution_count": 5,
   "metadata": {},
   "outputs": [],
   "source": [
    "#df.iloc[] or .loc[] is very useful in selecting specific rows or columns.\n",
    "#to use loc, axis labels should be provided.In slicing , end label is inclusive\n",
    "#to use iloc, integer indexes,column indexes must be provided. Its slicing works as in a list."
   ]
  },
  {
   "cell_type": "code",
   "execution_count": 6,
   "metadata": {},
   "outputs": [],
   "source": [
    "#df1+df2 can happen but if uncommon axis labels are present, they will be considered nan. For that, other methods are present\n",
    "#df1.add(df2,fill_value=0)"
   ]
  },
  {
   "cell_type": "code",
   "execution_count": 7,
   "metadata": {},
   "outputs": [],
   "source": [
    "#df.apply(func to be applied on df,args=(positional_arguments),keyworded_args)\n",
    "#df.applymap(func) :this generally is used for element-wise data transformations"
   ]
  },
  {
   "cell_type": "code",
   "execution_count": 8,
   "metadata": {},
   "outputs": [],
   "source": [
    "#s1.rank()  :ranking gives ranks which varies from 1 to n to increasing order of values. \n",
    "#if distinct values are present, rank = position \n",
    "#repeated values are to be treated with method arg.\n",
    "#s1.rank(method='first/max/min')"
   ]
  },
  {
   "cell_type": "code",
   "execution_count": 9,
   "metadata": {},
   "outputs": [],
   "source": [
    "#df.mean(),df.sum(),df.std(),df.var(),df.corr(),df.cov(),column/row.corr(column/row),df.corrwith(column)"
   ]
  },
  {
   "cell_type": "code",
   "execution_count": 10,
   "metadata": {},
   "outputs": [],
   "source": [
    "#s1.unique(),s1.value_counts()\n",
    "#s1.isin()\n",
    "#pd.Index(s2).get_indexer(s1)"
   ]
  }
 ],
 "metadata": {
  "kernelspec": {
   "display_name": "Python 3",
   "language": "python",
   "name": "python3"
  },
  "language_info": {
   "codemirror_mode": {
    "name": "ipython",
    "version": 3
   },
   "file_extension": ".py",
   "mimetype": "text/x-python",
   "name": "python",
   "nbconvert_exporter": "python",
   "pygments_lexer": "ipython3",
   "version": "3.7.9"
  }
 },
 "nbformat": 4,
 "nbformat_minor": 4
}

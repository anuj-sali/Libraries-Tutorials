{
 "cells": [
  {
   "cell_type": "code",
   "execution_count": 1,
   "metadata": {},
   "outputs": [],
   "source": [
    "import numpy as np"
   ]
  },
  {
   "cell_type": "code",
   "execution_count": 2,
   "metadata": {},
   "outputs": [],
   "source": [
    "#We are going to use methods associated with array instance since they give more facilities in terms of axes."
   ]
  },
  {
   "cell_type": "code",
   "execution_count": 3,
   "metadata": {},
   "outputs": [],
   "source": [
    "arr=np.random.randn(6,3)"
   ]
  },
  {
   "cell_type": "code",
   "execution_count": 4,
   "metadata": {},
   "outputs": [
    {
     "data": {
      "text/plain": [
       "array([[-0.45810789, -0.25778092, -1.50292862],\n",
       "       [-0.07721618, -1.13670271, -1.61141769],\n",
       "       [ 0.01877981,  0.57456664, -1.80349781],\n",
       "       [ 0.48429586,  0.39238943, -0.88521249],\n",
       "       [ 0.98924458, -0.65151447, -0.43476485],\n",
       "       [-0.22926843,  0.8599829 , -1.26757163]])"
      ]
     },
     "execution_count": 4,
     "metadata": {},
     "output_type": "execute_result"
    }
   ],
   "source": [
    "arr"
   ]
  },
  {
   "cell_type": "code",
   "execution_count": 5,
   "metadata": {},
   "outputs": [
    {
     "data": {
      "text/plain": [
       "-6.996724489936682"
      ]
     },
     "execution_count": 5,
     "metadata": {},
     "output_type": "execute_result"
    }
   ],
   "source": [
    "arr.sum()"
   ]
  },
  {
   "cell_type": "code",
   "execution_count": 6,
   "metadata": {},
   "outputs": [
    {
     "data": {
      "text/plain": [
       "array([-2.21881743, -2.82533658, -1.21015137, -0.00852721, -0.09703474,\n",
       "       -0.63685716])"
      ]
     },
     "execution_count": 6,
     "metadata": {},
     "output_type": "execute_result"
    }
   ],
   "source": [
    "arr.sum(axis=1)"
   ]
  },
  {
   "cell_type": "code",
   "execution_count": 7,
   "metadata": {},
   "outputs": [
    {
     "data": {
      "text/plain": [
       "array([ 0.12128796, -0.03650986, -1.25089885])"
      ]
     },
     "execution_count": 7,
     "metadata": {},
     "output_type": "execute_result"
    }
   ],
   "source": [
    "arr.mean(axis=0)"
   ]
  },
  {
   "cell_type": "code",
   "execution_count": 10,
   "metadata": {},
   "outputs": [
    {
     "data": {
      "text/plain": [
       "0.8318761015459861"
      ]
     },
     "execution_count": 10,
     "metadata": {},
     "output_type": "execute_result"
    }
   ],
   "source": [
    "arr.std()"
   ]
  },
  {
   "cell_type": "code",
   "execution_count": 11,
   "metadata": {},
   "outputs": [
    {
     "data": {
      "text/plain": [
       "array([[-0.45810789, -0.71588881, -2.21881743],\n",
       "       [-0.07721618, -1.21391889, -2.82533658],\n",
       "       [ 0.01877981,  0.59334644, -1.21015137],\n",
       "       [ 0.48429586,  0.87668529, -0.00852721],\n",
       "       [ 0.98924458,  0.33773011, -0.09703474],\n",
       "       [-0.22926843,  0.63071447, -0.63685716]])"
      ]
     },
     "execution_count": 11,
     "metadata": {},
     "output_type": "execute_result"
    }
   ],
   "source": [
    "arr.cumsum(axis=1)                     #Cumulative sum across columns (More like fabonacci series)"
   ]
  },
  {
   "cell_type": "code",
   "execution_count": 13,
   "metadata": {},
   "outputs": [
    {
     "data": {
      "text/plain": [
       "array([[-4.58107889e-01, -2.57780920e-01, -1.50292862e+00],\n",
       "       [ 3.53733420e-02,  2.93020270e-01,  2.42184577e+00],\n",
       "       [ 6.64304478e-04,  1.68359672e-01, -4.36779355e+00],\n",
       "       [ 3.21719909e-04,  6.60625549e-02,  3.86642541e+00],\n",
       "       [ 3.18259677e-04, -4.30407107e-02, -1.68098587e+00],\n",
       "       [-7.29668955e-05, -3.70142750e-02,  2.13077000e+00]])"
      ]
     },
     "execution_count": 13,
     "metadata": {},
     "output_type": "execute_result"
    }
   ],
   "source": [
    "arr.cumprod(axis=0)                     #Cumulative product across rows"
   ]
  }
 ],
 "metadata": {
  "kernelspec": {
   "display_name": "Python 3",
   "language": "python",
   "name": "python3"
  },
  "language_info": {
   "codemirror_mode": {
    "name": "ipython",
    "version": 3
   },
   "file_extension": ".py",
   "mimetype": "text/x-python",
   "name": "python",
   "nbconvert_exporter": "python",
   "pygments_lexer": "ipython3",
   "version": "3.7.9"
  }
 },
 "nbformat": 4,
 "nbformat_minor": 4
}
